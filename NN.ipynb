{
  "nbformat": 4,
  "nbformat_minor": 0,
  "metadata": {
    "colab": {
      "name": "NN.ipynb",
      "provenance": [],
      "authorship_tag": "ABX9TyMzAtAxsN+TPm8FQgH7fiVN"
    },
    "kernelspec": {
      "name": "python3",
      "display_name": "Python 3"
    },
    "language_info": {
      "name": "python"
    }
  },
  "cells": [
    {
      "cell_type": "code",
      "metadata": {
        "id": "niFJ511Bfb1Q"
      },
      "source": [
        "import numpy as np\n",
        "from sklearn.datasets import make_moons\n",
        "from sklearn.model_selection import train_test_split\n",
        "import matplotlib.pyplot as plt"
      ],
      "execution_count": null,
      "outputs": []
    },
    {
      "cell_type": "code",
      "metadata": {
        "id": "qY85xrkLffAs"
      },
      "source": [
        "# create dataset using sklearn\n",
        "# each make_moons data instance has 2 features (X1, X2 position)\n",
        "# 2 possible target values, moon 0 or moon 1 (binary classification)\n",
        "X, y = make_moons(500, noise=0.1)\n",
        "\n",
        "# split dataset into training and testing sets\n",
        "X_train, X_test, y_train, y_test = train_test_split(X, y, test_size = 0.25, random_state = 43)"
      ],
      "execution_count": null,
      "outputs": []
    },
    {
      "cell_type": "code",
      "metadata": {
        "id": "Vuv3eHkmfRbC"
      },
      "source": [
        "# create a neural network model class\n",
        "class NeuralNetwork():\n",
        "  \n",
        "  # initialize neural network model with attributes determined by dataset\n",
        "  def __init__(self, X, y):\n",
        "    # features matrix\n",
        "    self.X = X\n",
        "    # target vector\n",
        "    self.y = y\n",
        "    # number of data instances, 500\n",
        "    self.num_inputs = X.shape[0]\n",
        "    # number of nodes in input layer = number of features, 2\n",
        "    self.num_input_nodes = X.shape[1]\n",
        "    # 1 binary classification target value, so 1 output node\n",
        "    self.num_output_nodes = 1\n",
        "    \n",
        "  # initialize neural network model with attributes chosen by user\n",
        "  def initialize(self, numh, seed = 1):\n",
        "    # choose number of nodes in hidden layer\n",
        "    self.num_hidden_nodes = numh\n",
        "    \n",
        "    # init bias terms with zeros and weights by Xavier initialization\n",
        "    b1 = np.zeros((1, self.num_hidden_nodes))\n",
        "    b2 = np.zeros((1, self.num_output_nodes)) \n",
        "    \n",
        "    # Xavier initialization recomended for sigmoid, tanh; works okay for ReLU\n",
        "    np.random.seed(seed)\n",
        "    limit = np.sqrt(3 / ((self.num_input_nodes + self.num_output_nodes) / 2)) \n",
        "    W1 = np.random.uniform(low = -limit, high = limit, size = (self.num_input_nodes, self.num_hidden_nodes))\n",
        "    W2 = np.random.uniform(low = -limit, high = limit, size = (self.num_hidden_nodes, self.num_output_nodes))\n",
        "    \n",
        "    # parameters dictionary to store weight and bias terms\n",
        "    self.params = {'W1': W1, 'b1': b1, 'W2': W2, 'b2': b2}\n",
        "    \n",
        "    # tracking dictionary to keep track of network transformation (combination, activation) output values\n",
        "    self.track = {}\n",
        "  \n",
        "  # define activation functions: sigmoid, tanh, relu, etc\n",
        "  def sigmoid(self, x):\n",
        "    return 1. / (1 + np.exp(-x))\n",
        "  \n",
        "  def tanh(self, x):\n",
        "    return (2. / (1 + np.exp(-x))) - 1\n",
        "  \n",
        "  def ReLU(self, x):\n",
        "    return np.where(x <= 0, 0, x)\n",
        "\n",
        "  def Elu(self, x, a = 2):\n",
        "    return np.where(x <= 0, (a * (np.exp(x) - 1)), x)\n",
        "  \n",
        "  def dElu(self, x, a = 2):\n",
        "    return np.where(x <= 0, a * np.exp(x), 1)\n",
        "\n",
        "  # forward propagation: inputs move through network and get transformed into prediction\n",
        "  def forward_prop(self, X = None, track = True):\n",
        "    # load bias and weight terms for network transformation\n",
        "    W1 = self.params['W1']\n",
        "    b1 = self.params['b1']\n",
        "    W2 = self.params['W2']\n",
        "    b2 = self.params['b2']\n",
        "    \n",
        "    # load data\n",
        "    if X is None:\n",
        "      X = self.X.copy()\n",
        "    \n",
        "    # input layer to hidden layer combination\n",
        "    Z1 = X.dot(W1) + b1\n",
        "    # hidden layer activation\n",
        "    A1 = self.Elu(Z1)\n",
        "    # hidden layer to output layer combination\n",
        "    Z2 = np.dot(A1, W2) + b2\n",
        "    # output layer activation\n",
        "    A2 = self.sigmoid(Z2)\n",
        "    # after out put activation, result is network prediction\n",
        "    prediction = A2\n",
        "    \n",
        "    # if track bool is true, update tracking dictionary\n",
        "    # if false (from the predict method), return network prediction\n",
        "    if track:\n",
        "      self.track = {'Z1': Z1, 'A1': A1, 'Z2': Z2, 'A2': A2, 'prediction': prediction} \n",
        "    else:\n",
        "      return prediction\n",
        "      \n",
        "  # backward propagation:\n",
        "  def back_prop(self):\n",
        "    # load parameters and logged values\n",
        "    A1 = self.track['A1']\n",
        "    A2 = self.track['A2']\n",
        "    W1 = self.params['W1']\n",
        "    b1 = self.params['b1']\n",
        "    W2 = self.params['W2']\n",
        "    b2 = self.params['b2']\n",
        "    \n",
        "    \n",
        "    # regularize by dividing b number of instances\n",
        "    m = 1 / self.num_inputs \n",
        "    \n",
        "    # calculate derivatives\n",
        "    parderZ2 = A2 - self.y.reshape(-1, 1)\n",
        "    parderW2 = m * A1.T.dot(parderZ2)\n",
        "    parderb2 = m * np.sum(parderZ2, axis = 0, keepdims = True)\n",
        "    parderZ1 = m * parderZ2.dot(W2.T) * self.dElu(A1)\n",
        "    parderW1 = m * np.dot(self.X.T, parderZ1)\n",
        "    parderb1 = m * np.sum(parderZ1, axis = 0)\n",
        "    \n",
        "    # new parameter = old parameter - learning rate * parameter derivative\n",
        "    W1 -= self.learning_rate * parderW1\n",
        "    b1 -= self.learning_rate * parderb1\n",
        "    W2 -= self.learning_rate * parderW2\n",
        "    b2 -= self.learning_rate * parderb2\n",
        "    \n",
        "    # store new weight and bias terms\n",
        "    self.params = {'W1': W1, 'b1': b1, 'W2': W2, 'b2': b2}\n",
        "\n",
        "  # repeat forward and backward propagation to train neural network  \n",
        "  def train(self, learning_rate = 1e-2, iters = 10000, log_loss = False):\n",
        "    self.learning_rate = learning_rate\n",
        "    loss = []\n",
        "\n",
        "    for i in range(iters):\n",
        "      self.forward_prop()\n",
        "      self.back_prop()\n",
        "        \n",
        "      # update loss to track training progress\n",
        "      if log_loss:\n",
        "        loss.append(self.calculate_loss())\n",
        "            \n",
        "    if log_loss:\n",
        "      return loss\n",
        "\n",
        "  # binary classification prediction based on forward propagation\n",
        "  def predict(self, X):\n",
        "      prediction = self.forward_prop(X, track = False)\n",
        "      return np.where(prediction < 0.5, 0, 1)\n",
        "  \n",
        "  # evaluate network performance with cross entropy loss\n",
        "  def calculate_loss(self):\n",
        "      prediction = self.track['prediction']\n",
        "      W1 = self.params['W1']\n",
        "      W2 = self.params['W2']\n",
        "      y = self.y.reshape(-1, 1)\n",
        "      loss = (np.multiply(np.log(prediction), y) + \n",
        "              np.multiply(np.log(1 - prediction), (1 - y)))\n",
        "      return -1 / self.num_inputs * np.sum(loss)\n",
        "  \n",
        "  def train_accuracy(self):\n",
        "      prediction = self.track['prediction']\n",
        "      clf = np.where(prediction < 0.5, 0, 1)\n",
        "      return np.sum(self.y.reshape(-1, 1) == clf) / self.num_inputs"
      ],
      "execution_count": null,
      "outputs": []
    },
    {
      "cell_type": "code",
      "metadata": {
        "id": "X5TVgH6KfmWh"
      },
      "source": [
        "# initialize network model\n",
        "nn = NeuralNetwork(X_train, y_train)\n",
        "nn.initialize(numh = 3)"
      ],
      "execution_count": null,
      "outputs": []
    },
    {
      "cell_type": "code",
      "metadata": {
        "id": "a4Ktna4vfpJm",
        "colab": {
          "base_uri": "https://localhost:8080/",
          "height": 530
        },
        "outputId": "acf4d72b-d272-450b-ac6b-aa53eccd2a44"
      },
      "source": [
        "# train network and plot training loss\n",
        "training_loss = nn.train(learning_rate = 0.1, log_loss=True)\n",
        "plt.figure(figsize = (12, 8))\n",
        "plt.plot(training_loss)\n",
        "plt.title(\"Training Loss\")\n",
        "plt.xlabel(\"Training Iterations\")\n",
        "plt.ylabel(\"Cross-Entropy Loss\")\n",
        "plt.show()\n",
        "\n",
        "print(\"Training Accuracy: %.2f\" %nn.train_accuracy())"
      ],
      "execution_count": null,
      "outputs": [
        {
          "output_type": "display_data",
          "data": {
            "image/png": "[encoded data removed]",
            "text/plain": [
              "<Figure size 864x576 with 1 Axes>"
            ]
          },
          "metadata": {
            "needs_background": "light"
          }
        },
        {
          "output_type": "stream",
          "name": "stdout",
          "text": [
            "Training Accuracy: 0.88\n"
          ]
        }
      ]
    },
    {
      "cell_type": "code",
      "metadata": {
        "colab": {
          "base_uri": "https://localhost:8080/"
        },
        "id": "sUT8x87jHM5g",
        "outputId": "6be403d0-f66d-41e2-a88b-700a8975e253"
      },
      "source": [
        "# how does network perform on testing data\n",
        "test_prediction = nn.predict(X_test)\n",
        "np.sum(y_test.reshape(-1, 1) == test_prediction) / len(y_test)"
      ],
      "execution_count": null,
      "outputs": [
        {
          "output_type": "execute_result",
          "data": {
            "text/plain": [
              "0.872"
            ]
          },
          "metadata": {},
          "execution_count": 6
        }
      ]
    }
  ]
}